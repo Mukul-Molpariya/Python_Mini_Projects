{
 "cells": [
  {
   "cell_type": "code",
   "execution_count": 1,
   "id": "5e441623",
   "metadata": {},
   "outputs": [],
   "source": [
    "# CARD\n",
    "# SUIT, RANK,VALUE\n",
    "import random\n",
    "suits = ('Heart', 'Diamond','Spades','Clubs')\n",
    "ranks = ('Two', 'Three', 'Four', 'Five', 'Six', 'Seven', 'Eight', 'Nine', 'Ten', 'Jack', 'Queen', 'King', 'Ace')\n",
    "values = {'Two':2, 'Three':3, 'Four':4, 'Five':5, 'Six':6, 'Seven':7, 'Eight':8, \n",
    "          'Nine':9, 'Ten':10, 'Jack':11, 'Queen':12, 'King':13, 'Ace':14}"
   ]
  },
  {
   "cell_type": "code",
   "execution_count": 2,
   "id": "e9158a75",
   "metadata": {},
   "outputs": [],
   "source": [
    "class Card():\n",
    "    \n",
    "    def __init__(self,suit,rank):\n",
    "        self.suit = suit\n",
    "        self.rank = rank\n",
    "        self.value = values[rank]\n",
    "        \n",
    "    def __str__(self):\n",
    "        return self.rank + \" of \" + self.suit\n",
    "    "
   ]
  },
  {
   "cell_type": "code",
   "execution_count": 3,
   "id": "be6dcde8",
   "metadata": {},
   "outputs": [],
   "source": [
    "three_of_clubs = Card('Clubs','Three')"
   ]
  },
  {
   "cell_type": "code",
   "execution_count": 4,
   "id": "e747c584",
   "metadata": {},
   "outputs": [
    {
     "data": {
      "text/plain": [
       "3"
      ]
     },
     "execution_count": 4,
     "metadata": {},
     "output_type": "execute_result"
    }
   ],
   "source": [
    "three_of_clubs.value"
   ]
  },
  {
   "cell_type": "code",
   "execution_count": null,
   "id": "d49653ad",
   "metadata": {},
   "outputs": [],
   "source": []
  },
  {
   "cell_type": "code",
   "execution_count": null,
   "id": "b60b75fe",
   "metadata": {},
   "outputs": [],
   "source": []
  },
  {
   "cell_type": "code",
   "execution_count": null,
   "id": "a3909ac2",
   "metadata": {},
   "outputs": [],
   "source": []
  },
  {
   "cell_type": "code",
   "execution_count": 5,
   "id": "88c7836c",
   "metadata": {},
   "outputs": [],
   "source": [
    "two_hearts = Card(\"Hearts\",\"Two\")\n"
   ]
  },
  {
   "cell_type": "code",
   "execution_count": 6,
   "id": "4bece8a7",
   "metadata": {},
   "outputs": [
    {
     "data": {
      "text/plain": [
       "<__main__.Card at 0x18c0c9c4460>"
      ]
     },
     "execution_count": 6,
     "metadata": {},
     "output_type": "execute_result"
    }
   ],
   "source": [
    "two_hearts"
   ]
  },
  {
   "cell_type": "code",
   "execution_count": 7,
   "id": "ba8229ad",
   "metadata": {},
   "outputs": [
    {
     "name": "stdout",
     "output_type": "stream",
     "text": [
      "Two of Hearts\n"
     ]
    }
   ],
   "source": [
    "print(two_hearts)"
   ]
  },
  {
   "cell_type": "code",
   "execution_count": 8,
   "id": "444c248c",
   "metadata": {},
   "outputs": [
    {
     "data": {
      "text/plain": [
       "'Two'"
      ]
     },
     "execution_count": 8,
     "metadata": {},
     "output_type": "execute_result"
    }
   ],
   "source": [
    "two_hearts.rank"
   ]
  },
  {
   "cell_type": "code",
   "execution_count": 9,
   "id": "ea3542d0",
   "metadata": {},
   "outputs": [],
   "source": [
    "#values = {'Two':2, 'Three':3, 'Four':4, 'Five':5, 'Six':6, 'Seven':7, 'Eight':8, 'Nine':9, 'Ten':10, 'Jack':11, 'Queen':12, 'King':13, 'Ace':14}"
   ]
  },
  {
   "cell_type": "code",
   "execution_count": 10,
   "id": "27ec6ff0",
   "metadata": {},
   "outputs": [
    {
     "data": {
      "text/plain": [
       "2"
      ]
     },
     "execution_count": 10,
     "metadata": {},
     "output_type": "execute_result"
    }
   ],
   "source": [
    "values[two_hearts.rank]"
   ]
  },
  {
   "cell_type": "code",
   "execution_count": 11,
   "id": "9bc28cfe",
   "metadata": {},
   "outputs": [
    {
     "data": {
      "text/plain": [
       "2"
      ]
     },
     "execution_count": 11,
     "metadata": {},
     "output_type": "execute_result"
    }
   ],
   "source": [
    "two_hearts.value"
   ]
  },
  {
   "cell_type": "code",
   "execution_count": 12,
   "id": "6055dc6c",
   "metadata": {},
   "outputs": [
    {
     "data": {
      "text/plain": [
       "'Hearts'"
      ]
     },
     "execution_count": 12,
     "metadata": {},
     "output_type": "execute_result"
    }
   ],
   "source": [
    "two_hearts.suit"
   ]
  },
  {
   "cell_type": "code",
   "execution_count": 13,
   "id": "4f22083b",
   "metadata": {},
   "outputs": [
    {
     "data": {
      "text/plain": [
       "False"
      ]
     },
     "execution_count": 13,
     "metadata": {},
     "output_type": "execute_result"
    }
   ],
   "source": [
    "two_hearts.value == three_of_clubs"
   ]
  },
  {
   "cell_type": "code",
   "execution_count": 14,
   "id": "f178bcfa",
   "metadata": {},
   "outputs": [],
   "source": [
    "class Deck():\n",
    "    \n",
    "    def __init__(self):\n",
    "        \n",
    "        self.all_cards = []\n",
    "        \n",
    "        for suit in suits:\n",
    "            for rank in ranks:\n",
    "                \n",
    "                # Create the card object\n",
    "                \n",
    "                #Created_card = Card(suit,rank)\n",
    "                self.all_cards.append( Card(suit,rank))\n",
    "                \n",
    "    def shuffle(self):\n",
    "        \n",
    "        random.shuffle(self.all_cards)\n",
    "        \n",
    "    def deal_one(self):\n",
    "        return self.all_cards.pop()\n",
    "        "
   ]
  },
  {
   "cell_type": "code",
   "execution_count": 15,
   "id": "05b58c24",
   "metadata": {},
   "outputs": [],
   "source": [
    "new_deck = Deck()"
   ]
  },
  {
   "cell_type": "code",
   "execution_count": 16,
   "id": "36503d47",
   "metadata": {},
   "outputs": [
    {
     "data": {
      "text/plain": [
       "[<__main__.Card at 0x18c0da0e4f0>,\n",
       " <__main__.Card at 0x18c0da0efd0>,\n",
       " <__main__.Card at 0x18c0da0e400>,\n",
       " <__main__.Card at 0x18c0da0e280>,\n",
       " <__main__.Card at 0x18c0da0e310>,\n",
       " <__main__.Card at 0x18c0da0e2b0>,\n",
       " <__main__.Card at 0x18c0da0e3a0>,\n",
       " <__main__.Card at 0x18c0da0e070>,\n",
       " <__main__.Card at 0x18c0da0edc0>,\n",
       " <__main__.Card at 0x18c0da0e520>,\n",
       " <__main__.Card at 0x18c0da0e580>,\n",
       " <__main__.Card at 0x18c0da0e670>,\n",
       " <__main__.Card at 0x18c0da0eac0>,\n",
       " <__main__.Card at 0x18c0da0e1f0>,\n",
       " <__main__.Card at 0x18c0da0e190>,\n",
       " <__main__.Card at 0x18c0da0e130>,\n",
       " <__main__.Card at 0x18c0da0e940>,\n",
       " <__main__.Card at 0x18c0da0e9a0>,\n",
       " <__main__.Card at 0x18c0da0ea00>,\n",
       " <__main__.Card at 0x18c0da0ea60>,\n",
       " <__main__.Card at 0x18c0da0ef10>,\n",
       " <__main__.Card at 0x18c0da07730>,\n",
       " <__main__.Card at 0x18c0da070d0>,\n",
       " <__main__.Card at 0x18c0da074f0>,\n",
       " <__main__.Card at 0x18c0da07760>,\n",
       " <__main__.Card at 0x18c0da07790>,\n",
       " <__main__.Card at 0x18c0da07700>,\n",
       " <__main__.Card at 0x18c0da07220>,\n",
       " <__main__.Card at 0x18c0da076d0>,\n",
       " <__main__.Card at 0x18c0da07430>,\n",
       " <__main__.Card at 0x18c0da07280>,\n",
       " <__main__.Card at 0x18c0da07400>,\n",
       " <__main__.Card at 0x18c0da078b0>,\n",
       " <__main__.Card at 0x18c0da07940>,\n",
       " <__main__.Card at 0x18c0da07e50>,\n",
       " <__main__.Card at 0x18c0da07eb0>,\n",
       " <__main__.Card at 0x18c0da07dc0>,\n",
       " <__main__.Card at 0x18c0da07d60>,\n",
       " <__main__.Card at 0x18c0da07d00>,\n",
       " <__main__.Card at 0x18c0da07ca0>,\n",
       " <__main__.Card at 0x18c0da07c40>,\n",
       " <__main__.Card at 0x18c0da07b50>,\n",
       " <__main__.Card at 0x18c0da07ac0>,\n",
       " <__main__.Card at 0x18c0da07a30>,\n",
       " <__main__.Card at 0x18c0da07ee0>,\n",
       " <__main__.Card at 0x18c0da07fd0>,\n",
       " <__main__.Card at 0x18c0da07f70>,\n",
       " <__main__.Card at 0x18c0da07c10>,\n",
       " <__main__.Card at 0x18c0da07850>,\n",
       " <__main__.Card at 0x18c0da07340>,\n",
       " <__main__.Card at 0x18c0da071c0>,\n",
       " <__main__.Card at 0x18c0da07a60>]"
      ]
     },
     "execution_count": 16,
     "metadata": {},
     "output_type": "execute_result"
    }
   ],
   "source": [
    "new_deck.all_cards"
   ]
  },
  {
   "cell_type": "code",
   "execution_count": 17,
   "id": "1f85d344",
   "metadata": {},
   "outputs": [],
   "source": [
    "F_card = new_deck.all_cards[-1]"
   ]
  },
  {
   "cell_type": "code",
   "execution_count": 18,
   "id": "6ff81735",
   "metadata": {},
   "outputs": [
    {
     "name": "stdout",
     "output_type": "stream",
     "text": [
      "Ace of Clubs\n"
     ]
    }
   ],
   "source": [
    "print(F_card)"
   ]
  },
  {
   "cell_type": "code",
   "execution_count": 19,
   "id": "c43eedda",
   "metadata": {},
   "outputs": [
    {
     "name": "stdout",
     "output_type": "stream",
     "text": [
      "Two of Heart\n",
      "Three of Heart\n",
      "Four of Heart\n",
      "Five of Heart\n",
      "Six of Heart\n",
      "Seven of Heart\n",
      "Eight of Heart\n",
      "Nine of Heart\n",
      "Ten of Heart\n",
      "Jack of Heart\n",
      "Queen of Heart\n",
      "King of Heart\n",
      "Ace of Heart\n",
      "Two of Diamond\n",
      "Three of Diamond\n",
      "Four of Diamond\n",
      "Five of Diamond\n",
      "Six of Diamond\n",
      "Seven of Diamond\n",
      "Eight of Diamond\n",
      "Nine of Diamond\n",
      "Ten of Diamond\n",
      "Jack of Diamond\n",
      "Queen of Diamond\n",
      "King of Diamond\n",
      "Ace of Diamond\n",
      "Two of Spades\n",
      "Three of Spades\n",
      "Four of Spades\n",
      "Five of Spades\n",
      "Six of Spades\n",
      "Seven of Spades\n",
      "Eight of Spades\n",
      "Nine of Spades\n",
      "Ten of Spades\n",
      "Jack of Spades\n",
      "Queen of Spades\n",
      "King of Spades\n",
      "Ace of Spades\n",
      "Two of Clubs\n",
      "Three of Clubs\n",
      "Four of Clubs\n",
      "Five of Clubs\n",
      "Six of Clubs\n",
      "Seven of Clubs\n",
      "Eight of Clubs\n",
      "Nine of Clubs\n",
      "Ten of Clubs\n",
      "Jack of Clubs\n",
      "Queen of Clubs\n",
      "King of Clubs\n",
      "Ace of Clubs\n"
     ]
    }
   ],
   "source": [
    "for card_object in new_deck.all_cards:\n",
    "    print(card_object)"
   ]
  },
  {
   "cell_type": "code",
   "execution_count": 20,
   "id": "1d0b15db",
   "metadata": {},
   "outputs": [],
   "source": [
    "new_deck = Deck()"
   ]
  },
  {
   "cell_type": "code",
   "execution_count": 21,
   "id": "cc9bcc54",
   "metadata": {},
   "outputs": [],
   "source": [
    "bottom_card = new_deck.all_cards[-1]"
   ]
  },
  {
   "cell_type": "code",
   "execution_count": 22,
   "id": "692f7608",
   "metadata": {},
   "outputs": [
    {
     "name": "stdout",
     "output_type": "stream",
     "text": [
      "Ace of Clubs\n"
     ]
    }
   ],
   "source": [
    "print(bottom_card)"
   ]
  },
  {
   "cell_type": "code",
   "execution_count": 23,
   "id": "96ca724f",
   "metadata": {},
   "outputs": [],
   "source": [
    "new_deck.shuffle()"
   ]
  },
  {
   "cell_type": "code",
   "execution_count": 24,
   "id": "75cf4001",
   "metadata": {},
   "outputs": [
    {
     "name": "stdout",
     "output_type": "stream",
     "text": [
      "Nine of Spades\n"
     ]
    }
   ],
   "source": [
    "print(new_deck.all_cards[-1])"
   ]
  },
  {
   "cell_type": "code",
   "execution_count": 25,
   "id": "adac3a90",
   "metadata": {},
   "outputs": [],
   "source": [
    "mycard = new_deck.deal_one()"
   ]
  },
  {
   "cell_type": "code",
   "execution_count": 26,
   "id": "23c3a50f",
   "metadata": {},
   "outputs": [
    {
     "name": "stdout",
     "output_type": "stream",
     "text": [
      "Nine of Spades\n"
     ]
    }
   ],
   "source": [
    "print(mycard)"
   ]
  },
  {
   "cell_type": "code",
   "execution_count": 27,
   "id": "5e975184",
   "metadata": {},
   "outputs": [
    {
     "data": {
      "text/plain": [
       "51"
      ]
     },
     "execution_count": 27,
     "metadata": {},
     "output_type": "execute_result"
    }
   ],
   "source": [
    "len(new_deck.all_cards)"
   ]
  },
  {
   "cell_type": "code",
   "execution_count": 28,
   "id": "ba5f4b38",
   "metadata": {},
   "outputs": [],
   "source": [
    "class Player:\n",
    "    def __init__(self,name):\n",
    "        \n",
    "        self.name = name\n",
    "        self.all_cards = []\n",
    "        \n",
    "    def remove_one(self):\n",
    "        return self.all_cards.pop(0)\n",
    "    \n",
    "    def add_cards(self,new_cards):\n",
    "        if type(new_cards) == type([]):    \n",
    "            # list of multiple cards object\n",
    "            self.all_cards.extend(new_cards)\n",
    "        else:\n",
    "            #for a single card object\n",
    "            self.all_cards.append(new_cards)\n",
    "    \n",
    "    def __str__(self):\n",
    "        return f'Player {self.name} has {len(self.all_cards)} cards.'"
   ]
  },
  {
   "cell_type": "code",
   "execution_count": 29,
   "id": "32bc12fa",
   "metadata": {},
   "outputs": [],
   "source": [
    "new_player = Player(\"mukul\")"
   ]
  },
  {
   "cell_type": "code",
   "execution_count": 30,
   "id": "134df3e8",
   "metadata": {},
   "outputs": [
    {
     "name": "stdout",
     "output_type": "stream",
     "text": [
      "Player mukul has 0 cards.\n"
     ]
    }
   ],
   "source": [
    "print(new_player)"
   ]
  },
  {
   "cell_type": "code",
   "execution_count": 31,
   "id": "f114f76e",
   "metadata": {},
   "outputs": [],
   "source": [
    "new_player.add_cards(mycard)"
   ]
  },
  {
   "cell_type": "code",
   "execution_count": 32,
   "id": "c58726c2",
   "metadata": {},
   "outputs": [
    {
     "name": "stdout",
     "output_type": "stream",
     "text": [
      "Nine of Spades\n"
     ]
    }
   ],
   "source": [
    "print(mycard)"
   ]
  },
  {
   "cell_type": "code",
   "execution_count": 33,
   "id": "c831811f",
   "metadata": {},
   "outputs": [
    {
     "name": "stdout",
     "output_type": "stream",
     "text": [
      "Player mukul has 1 cards.\n"
     ]
    }
   ],
   "source": [
    "print(new_player)"
   ]
  },
  {
   "cell_type": "code",
   "execution_count": 34,
   "id": "23677b18",
   "metadata": {},
   "outputs": [
    {
     "name": "stdout",
     "output_type": "stream",
     "text": [
      "Nine of Spades\n"
     ]
    }
   ],
   "source": [
    "print(new_player.all_cards[0])"
   ]
  },
  {
   "cell_type": "code",
   "execution_count": 35,
   "id": "a0847b9e",
   "metadata": {},
   "outputs": [],
   "source": [
    "new_player.add_cards([mycard,mycard,mycard])"
   ]
  },
  {
   "cell_type": "code",
   "execution_count": 36,
   "id": "8db4f209",
   "metadata": {},
   "outputs": [
    {
     "name": "stdout",
     "output_type": "stream",
     "text": [
      "Player mukul has 4 cards.\n"
     ]
    }
   ],
   "source": [
    "print(new_player)"
   ]
  },
  {
   "cell_type": "code",
   "execution_count": 37,
   "id": "ffc5cdf0",
   "metadata": {},
   "outputs": [
    {
     "data": {
      "text/plain": [
       "<__main__.Card at 0x18c0da1b9d0>"
      ]
     },
     "execution_count": 37,
     "metadata": {},
     "output_type": "execute_result"
    }
   ],
   "source": [
    "new_player.remove_one()"
   ]
  },
  {
   "cell_type": "code",
   "execution_count": 38,
   "id": "1f5ae8c1",
   "metadata": {},
   "outputs": [
    {
     "name": "stdout",
     "output_type": "stream",
     "text": [
      "Player mukul has 3 cards.\n"
     ]
    }
   ],
   "source": [
    "print(new_player)"
   ]
  },
  {
   "cell_type": "code",
   "execution_count": 39,
   "id": "91f9685a",
   "metadata": {},
   "outputs": [],
   "source": [
    "# GAME SETUP\n",
    "player_one = Player(\"One\")\n",
    "player_two = Player(\"Two\")\n",
    "\n",
    "new_deck = Deck()\n",
    "new_deck.shuffle()\n",
    "\n",
    "for x in range(26):\n",
    "    player_one.add_cards(new_deck.deal_one())\n",
    "    player_two.add_cards(new_deck.deal_one())"
   ]
  },
  {
   "cell_type": "code",
   "execution_count": 40,
   "id": "2bd423e6",
   "metadata": {},
   "outputs": [
    {
     "data": {
      "text/plain": [
       "26"
      ]
     },
     "execution_count": 40,
     "metadata": {},
     "output_type": "execute_result"
    }
   ],
   "source": [
    "len(player_one.all_cards)"
   ]
  },
  {
   "cell_type": "code",
   "execution_count": 41,
   "id": "878a01a6",
   "metadata": {},
   "outputs": [
    {
     "name": "stdout",
     "output_type": "stream",
     "text": [
      "Six of Heart\n"
     ]
    }
   ],
   "source": [
    "print(player_one.all_cards[0])"
   ]
  },
  {
   "cell_type": "code",
   "execution_count": 42,
   "id": "0b004936",
   "metadata": {},
   "outputs": [],
   "source": [
    "game_on = True"
   ]
  },
  {
   "cell_type": "code",
   "execution_count": 43,
   "id": "e6ee350f",
   "metadata": {},
   "outputs": [
    {
     "name": "stdout",
     "output_type": "stream",
     "text": [
      "Round 1\n",
      "Round 2\n",
      "Round 3\n",
      "Round 4\n",
      "Round 5\n",
      "Round 6\n",
      "Round 7\n",
      "Round 8\n",
      "Round 9\n",
      "Round 10\n",
      "Round 11\n",
      "Round 12\n",
      "Round 13\n",
      "Round 14\n",
      "Round 15\n",
      "Round 16\n",
      "Round 17\n",
      "Round 18\n",
      "Round 19\n",
      "Round 20\n",
      "Round 21\n",
      "Round 22\n",
      "Round 23\n",
      "Round 24\n",
      "Round 25\n",
      "WAR!\n",
      "Round 26\n",
      "Round 27\n",
      "Round 28\n",
      "Round 29\n",
      "Round 30\n",
      "Round 31\n",
      "Round 32\n",
      "Round 33\n",
      "Round 34\n",
      "Round 35\n",
      "Round 36\n",
      "Round 37\n",
      "Round 38\n",
      "Round 39\n",
      "Round 40\n",
      "Round 41\n",
      "WAR!\n",
      "Round 42\n",
      "Round 43\n",
      "Round 44\n",
      "Round 45\n",
      "Round 46\n",
      "Round 47\n",
      "Round 48\n",
      "Round 49\n",
      "Round 50\n",
      "Round 51\n",
      "Round 52\n",
      "Round 53\n",
      "Round 54\n",
      "Round 55\n",
      "Round 56\n",
      "Round 57\n",
      "Round 58\n",
      "Round 59\n",
      "Round 60\n",
      "Round 61\n",
      "Round 62\n",
      "Round 63\n",
      "Round 64\n",
      "Round 65\n",
      "Round 66\n",
      "Round 67\n",
      "Round 68\n",
      "Round 69\n",
      "Round 70\n",
      "Round 71\n",
      "Round 72\n",
      "Round 73\n",
      "Round 74\n",
      "Round 75\n",
      "Round 76\n",
      "Round 77\n",
      "Round 78\n",
      "Round 79\n",
      "Round 80\n",
      "Round 81\n",
      "Round 82\n",
      "Round 83\n",
      "WAR!\n",
      "Round 84\n",
      "Round 85\n",
      "Round 86\n",
      "Round 87\n",
      "Round 88\n",
      "Round 89\n",
      "Round 90\n",
      "Round 91\n",
      "Round 92\n",
      "Round 93\n",
      "Round 94\n",
      "Round 95\n",
      "Round 96\n",
      "Round 97\n",
      "Round 98\n",
      "Round 99\n",
      "Round 100\n",
      "Round 101\n",
      "Round 102\n",
      "Round 103\n",
      "Round 104\n",
      "Round 105\n",
      "Round 106\n",
      "Round 107\n",
      "Round 108\n",
      "Round 109\n",
      "Round 110\n",
      "Round 111\n",
      "Round 112\n",
      "Round 113\n",
      "Round 114\n",
      "Round 115\n",
      "Round 116\n",
      "Round 117\n",
      "Round 118\n",
      "Round 119\n",
      "Round 120\n",
      "Round 121\n",
      "Round 122\n",
      "Round 123\n",
      "Round 124\n",
      "Round 125\n",
      "Round 126\n",
      "Round 127\n",
      "Round 128\n",
      "Round 129\n",
      "Round 130\n",
      "Round 131\n",
      "WAR!\n",
      "Round 132\n",
      "Round 133\n",
      "Round 134\n",
      "Round 135\n",
      "Round 136\n",
      "Round 137\n",
      "Round 138\n",
      "Round 139\n",
      "Round 140\n",
      "Round 141\n",
      "Round 142\n",
      "Round 143\n",
      "Round 144\n",
      "Round 145\n",
      "Round 146\n",
      "Round 147\n",
      "Round 148\n",
      "Round 149\n",
      "Round 150\n",
      "Round 151\n",
      "Round 152\n",
      "Round 153\n",
      "Round 154\n",
      "Round 155\n",
      "Round 156\n",
      "Round 157\n",
      "Round 158\n",
      "Round 159\n",
      "Round 160\n",
      "WAR!\n",
      "Round 161\n",
      "Round 162\n",
      "Round 163\n",
      "Round 164\n",
      "Round 165\n",
      "Round 166\n",
      "Round 167\n",
      "Round 168\n",
      "Round 169\n",
      "Round 170\n",
      "Round 171\n",
      "Round 172\n",
      "Round 173\n",
      "Round 174\n",
      "Round 175\n",
      "WAR!\n",
      "Round 176\n",
      "Round 177\n",
      "Round 178\n",
      "Round 179\n",
      "Round 180\n",
      "Round 181\n",
      "Round 182\n",
      "Round 183\n",
      "Round 184\n",
      "Round 185\n",
      "Round 186\n",
      "WAR!\n",
      "Round 187\n",
      "Round 188\n",
      "Round 189\n",
      "Round 190\n",
      "Round 191\n",
      "Round 192\n",
      "Round 193\n",
      "Round 194\n",
      "Round 195\n",
      "Round 196\n",
      "Round 197\n",
      "Round 198\n",
      "Round 199\n",
      "Round 200\n",
      "Round 201\n",
      "Round 202\n",
      "Round 203\n",
      "Round 204\n",
      "Round 205\n",
      "Round 206\n",
      "Round 207\n",
      "Round 208\n",
      "Round 209\n",
      "Round 210\n",
      "Round 211\n",
      "WAR!\n",
      "Round 212\n",
      "Round 213\n",
      "Round 214\n",
      "Round 215\n",
      "Round 216\n",
      "WAR!\n",
      "Round 217\n",
      "Round 218\n",
      "Round 219\n",
      "Round 220\n",
      "Round 221\n",
      "Round 222\n",
      "Round 223\n",
      "Round 224\n",
      "Round 225\n",
      "Round 226\n",
      "Round 227\n",
      "Round 228\n",
      "Round 229\n",
      "Round 230\n",
      "Round 231\n",
      "Round 232\n",
      "Round 233\n",
      "Round 234\n",
      "Round 235\n",
      "Round 236\n",
      "Round 237\n",
      "Round 238\n",
      "Round 239\n",
      "WAR!\n",
      "Round 240\n",
      "Round 241\n",
      "Round 242\n",
      "Round 243\n",
      "Player Two , out of cards ! Player One Wins\n"
     ]
    }
   ],
   "source": [
    "round_num = 0\n",
    "\n",
    "while game_on:\n",
    "    \n",
    "    round_num += 1\n",
    "    print(f\"Round {round_num}\")\n",
    "    \n",
    "    if len(player_one.all_cards) == 0:\n",
    "        print(\"Player One , out of cards ! Player Two Wins\")\n",
    "        game_on = False\n",
    "        break\n",
    "        \n",
    "    if len(player_two.all_cards) == 0:\n",
    "        print(\"Player Two , out of cards ! Player One Wins\")\n",
    "        game_on = False\n",
    "        break\n",
    "\n",
    "    # start a new round\n",
    "    player_one_cards = []\n",
    "    player_one_cards.append(player_one.remove_one())\n",
    "    \n",
    "    player_two_cards = []\n",
    "    player_two_cards.append(player_two.remove_one())\n",
    "\n",
    "\n",
    "# WHILE AT_WAR\n",
    "    \n",
    "    at_war = True\n",
    "    \n",
    "    while at_war:\n",
    "        \n",
    "        if player_one_cards[-1].value > player_two_cards[-1].value:\n",
    "            \n",
    "            player_one.add_cards(player_one_cards)\n",
    "            player_one.add_cards(player_two_cards)\n",
    "            \n",
    "            at_war = False\n",
    "            \n",
    "            \n",
    "        elif player_one_cards[-1].value < player_two_cards[-1].value:\n",
    "            \n",
    "            player_two.add_cards(player_one_cards)\n",
    "            player_two.add_cards(player_two_cards)\n",
    "            \n",
    "            at_war = False\n",
    "            \n",
    "        else:\n",
    "            print(\"WAR!\")\n",
    "            \n",
    "            if len(player_one.all_cards) < 5:\n",
    "                print(\"player one unable to declare a war\")\n",
    "                print(\"player Two WINS\")\n",
    "                game_on = False\n",
    "                break\n",
    "                \n",
    "            elif len(player_two.all_cards) < 5:\n",
    "                print(\"player two unable to declare a war\")\n",
    "                print(\"player One WINS\")\n",
    "                game_on = False\n",
    "                break\n",
    "                \n",
    "            else:\n",
    "                for num in range(5):\n",
    "                    player_one_cards.append(player_one.remove_one())\n",
    "                    player_two_cards.append(player_two.remove_one())\n",
    "    "
   ]
  },
  {
   "cell_type": "code",
   "execution_count": null,
   "id": "ec8bcbb4",
   "metadata": {},
   "outputs": [],
   "source": []
  }
 ],
 "metadata": {
  "kernelspec": {
   "display_name": "Python 3 (ipykernel)",
   "language": "python",
   "name": "python3"
  },
  "language_info": {
   "codemirror_mode": {
    "name": "ipython",
    "version": 3
   },
   "file_extension": ".py",
   "mimetype": "text/x-python",
   "name": "python",
   "nbconvert_exporter": "python",
   "pygments_lexer": "ipython3",
   "version": "3.9.12"
  }
 },
 "nbformat": 4,
 "nbformat_minor": 5
}
