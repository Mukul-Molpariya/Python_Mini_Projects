{
 "cells": [
  {
   "cell_type": "code",
   "execution_count": null,
   "id": "33e60aef",
   "metadata": {},
   "outputs": [],
   "source": [
    "game_list = [0,1,2]"
   ]
  },
  {
   "cell_type": "code",
   "execution_count": null,
   "id": "1d241a2f",
   "metadata": {},
   "outputs": [],
   "source": [
    "def display_game(game_list):\n",
    "    print(\"Here is the current list\")\n",
    "    print(game_list)"
   ]
  },
  {
   "cell_type": "code",
   "execution_count": null,
   "id": "e23e462b",
   "metadata": {},
   "outputs": [],
   "source": [
    "display_game(game_list)"
   ]
  },
  {
   "cell_type": "code",
   "execution_count": null,
   "id": "59e5560b",
   "metadata": {},
   "outputs": [],
   "source": [
    "def position_choice():\n",
    "    \n",
    "    choice = 'WRONG'\n",
    "    \n",
    "    while choice not in ['0','1','2']:\n",
    "        \n",
    "        choice = input(\"Pick a position (0,1,2) : \")\n",
    "        \n",
    "        if choice not in ['0','1','2']:\n",
    "            print(\"Sorry , invalid choice\")\n",
    "            \n",
    "    return int(choice)"
   ]
  },
  {
   "cell_type": "code",
   "execution_count": null,
   "id": "c8dfe87d",
   "metadata": {},
   "outputs": [],
   "source": [
    " position_choice()"
   ]
  },
  {
   "cell_type": "code",
   "execution_count": null,
   "id": "3465e7fd",
   "metadata": {},
   "outputs": [],
   "source": [
    "def replacement_choice(game_list,position):\n",
    "    \n",
    "    user_placement = input('Type a string to place at position : ')\n",
    "    \n",
    "    game_list[position] = user_placement\n",
    "    \n",
    "    return game_list"
   ]
  },
  {
   "cell_type": "code",
   "execution_count": null,
   "id": "793afc83",
   "metadata": {},
   "outputs": [],
   "source": [
    "replacement_choice(game_list,1)"
   ]
  },
  {
   "cell_type": "code",
   "execution_count": null,
   "id": "c42668b5",
   "metadata": {},
   "outputs": [],
   "source": [
    "def gameOn_choice():\n",
    "    \n",
    "    choice = 'WRONG'\n",
    "    \n",
    "    while choice not in ['Y','N']:\n",
    "        \n",
    "        choice = input(\"keep playing ? (Y or N) : \")\n",
    "        \n",
    "        if choice not in ['Y','N']:\n",
    "            print(\"Sorry , I dont understand , please chose Y or N\")\n",
    "            \n",
    "    if choice == 'Y':\n",
    "        return True\n",
    "    else:\n",
    "        return False"
   ]
  },
  {
   "cell_type": "code",
   "execution_count": null,
   "id": "4899069e",
   "metadata": {},
   "outputs": [],
   "source": [
    "gameOn_choice()"
   ]
  },
  {
   "cell_type": "code",
   "execution_count": null,
   "id": "35f3263e",
   "metadata": {},
   "outputs": [],
   "source": [
    "game_on = True\n",
    "game_list = [0,1,2]\n",
    "\n",
    "while game_on:\n",
    "    display_game(game_list)\n",
    "    \n",
    "    position = position_choice()\n",
    "    \n",
    "    game_list = replacement_choice(game_list,position)\n",
    "    \n",
    "    display_game(game_list)\n",
    "    \n",
    "    game_on = gameOn_choice()"
   ]
  },
  {
   "cell_type": "code",
   "execution_count": null,
   "id": "d7de9ea0",
   "metadata": {},
   "outputs": [],
   "source": []
  }
 ],
 "metadata": {
  "kernelspec": {
   "display_name": "Python 3 (ipykernel)",
   "language": "python",
   "name": "python3"
  },
  "language_info": {
   "codemirror_mode": {
    "name": "ipython",
    "version": 3
   },
   "file_extension": ".py",
   "mimetype": "text/x-python",
   "name": "python",
   "nbconvert_exporter": "python",
   "pygments_lexer": "ipython3",
   "version": "3.9.12"
  }
 },
 "nbformat": 4,
 "nbformat_minor": 5
}
